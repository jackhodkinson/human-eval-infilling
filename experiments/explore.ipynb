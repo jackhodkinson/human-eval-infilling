{
  "cells": [
    {
      "id": "0",
      "cell_type": "code",
      "execution_count": 1,
      "outputs": [
        {
          "output_type": "stream",
          "name": "stdout",
          "text": [
            "/Users/jackhodkinson/code/human-eval-infilling\r\n"
          ]
        }
      ],
      "source": [
        "!pwd"
      ],
      "metadata": {}
    },
    {
      "id": "95bb956e-9a29-4405-a7a5-a46271c3b4fc",
      "cell_type": "code",
      "execution_count": 2,
      "outputs": [
        {
          "output_type": "stream",
          "name": "stdout",
          "text": [
            "HumanEval-MultiLineInfilling.jsonl.gz\r\nHumanEval-RandomSpanInfilling.jsonl.gz\r\nHumanEval-RandomSpanInfillingLight.jsonl.gz\r\nHumanEval-SingleLineInfilling.jsonl.gz\r\nexample_problem.jsonl\r\nexample_samples.jsonl\r\nsamples.jsonl\r\nsamples.jsonl_results.jsonl\r\n"
          ]
        }
      ],
      "source": [
        "!ls data"
      ],
      "metadata": {}
    },
    {
      "id": "08ef58b2-273f-4545-9c08-1c94c04df9ae",
      "cell_type": "code",
      "execution_count": 5,
      "outputs": [],
      "source": [
        "import gzip\n",
        "import json\n",
        "\n",
        "with gzip.open('data/HumanEval-SingleLineInfilling.jsonl.gz', 'rt') as f:\n",
        "    lines = f.readlines()\n",
        "\n",
        "json_objects = [json.loads(line) for line in lines]"
      ],
      "metadata": {}
    },
    {
      "id": "cf8a274d-a58e-4e07-b985-48ae92825684",
      "cell_type": "code",
      "execution_count": 8,
      "outputs": [
        {
          "output_type": "execute_result",
          "execution_count": 8,
          "data": {
            "text/plain": [
              "1033"
            ]
          },
          "metadata": {}
        }
      ],
      "source": [
        "len(json_objects)"
      ],
      "metadata": {}
    },
    {
      "id": "06fdbd92-5346-4a76-ad02-b0f5f6fe164e",
      "cell_type": "code",
      "execution_count": null,
      "outputs": [],
      "source": [
        ""
      ],
      "metadata": {}
    }
  ],
  "metadata": {},
  "nbformat": 4,
  "nbformat_minor": 5
}